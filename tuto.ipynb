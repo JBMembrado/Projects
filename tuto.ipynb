{
 "cells": [
  {
   "cell_type": "markdown",
   "metadata": {},
   "source": [
    "A FAIRE :\n",
    "- installer pyspark\n",
    "- copier le fichier spark-xml_2.11-0.7.0.jar (depuis le root git) vers \n",
    "    C:\\Programmes\\Anaconda\\envs\\ADA\\Lib\\site-packages\\pyspark\\jars\n",
    "- Copier la cellule suivante pour importer la DF :    "
   ]
  },
  {
   "cell_type": "code",
   "execution_count": null,
   "metadata": {},
   "outputs": [],
   "source": [
    "from pyspark.sql import *\n",
    "from pyspark.sql.functions import *\n",
    "from pyspark import SparkContext\n",
    "import os\n",
    "\n",
    "os.environ['PYSPARK_SUBMIT_ARGS'] = '--packages com.databricks:spark-xml_2.11:0.7.0 pyspark-shell'\n",
    "\n",
    "# create the session\n",
    "spark = SparkSession.builder.getOrCreate()\n",
    "\n",
    "# create the context\n",
    "sc = spark.sparkContext\n",
    "\n",
    "r = spark.read.format(\"xml\") \\\n",
    "    .option(\"rowTag\",\"release\") \\\n",
    "    .load(\"releases_small.xml\")\n",
    "\n",
    "# Pour voir le schéma (structure de la DF):\n",
    "\n",
    "r.printSchema()"
   ]
  }
 ],
 "metadata": {
  "kernelspec": {
   "display_name": "Python 3",
   "language": "python",
   "name": "python3"
  },
  "language_info": {
   "codemirror_mode": {
    "name": "ipython",
    "version": 3
   },
   "file_extension": ".py",
   "mimetype": "text/x-python",
   "name": "python",
   "nbconvert_exporter": "python",
   "pygments_lexer": "ipython3",
   "version": "3.7.4"
  }
 },
 "nbformat": 4,
 "nbformat_minor": 2
}
